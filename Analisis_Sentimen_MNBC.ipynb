{
  "nbformat": 4,
  "nbformat_minor": 0,
  "metadata": {
    "colab": {
      "provenance": []
    },
    "kernelspec": {
      "name": "python3",
      "display_name": "Python 3"
    },
    "language_info": {
      "name": "python"
    }
  },
  "cells": [
    {
      "cell_type": "markdown",
      "source": [
        "# Analisis Sentimen Menggunakan Algoritma"
      ],
      "metadata": {
        "id": "9R6-O-5Ct4Yj"
      }
    },
    {
      "cell_type": "markdown",
      "source": [
        "# Import Data"
      ],
      "metadata": {
        "id": "Ysa1iEcquRuC"
      }
    },
    {
      "cell_type": "code",
      "source": [
        "from google.colab import drive\n",
        "drive.mount('/content/gdrive')"
      ],
      "metadata": {
        "colab": {
          "base_uri": "https://localhost:8080/"
        },
        "id": "GggiHCmO3k3X",
        "outputId": "fc5f3bc1-8029-4091-eaab-abaf283edc91"
      },
      "execution_count": null,
      "outputs": [
        {
          "output_type": "stream",
          "name": "stdout",
          "text": [
            "Mounted at /content/gdrive\n"
          ]
        }
      ]
    },
    {
      "cell_type": "code",
      "source": [
        "data_final = pd.read_csv('/content/gdrive/MyDrive/data_final+label.csv')"
      ],
      "metadata": {
        "id": "T1K3q_uMuL-B"
      },
      "execution_count": null,
      "outputs": []
    },
    {
      "cell_type": "code",
      "source": [
        "Y = data_final.loc[:,'label'].values\n",
        "X = data_final.loc[:,'content'].values\n",
        "X_train, X_test, Y_train, Y_test = train_test_split(X, Y, test_size=0.3, random_state=123)\n",
        "# Creating a transform\n",
        "countVectorizer = CountVectorizer(ngram_range=(1,1))\n",
        "XTrainVectorized = countVectorizer.fit_transform(X_train).toarray()\n",
        "XTestVectorized = countVectorizer.transform(X_test).toarray()"
      ],
      "metadata": {
        "id": "A20GH-4duVE6"
      },
      "execution_count": null,
      "outputs": []
    },
    {
      "cell_type": "markdown",
      "source": [
        "# Multinomial Naive Bayes Classifier"
      ],
      "metadata": {
        "id": "WQwTGJ6nrIk4"
      }
    },
    {
      "cell_type": "code",
      "source": [
        "# Make predictions on validation dataset\n",
        "Mnbc = MultinomialNB()\n",
        "Mnbc.fit(XTrainVectorized, Y_train)\n",
        "pred = Mnbc.predict(XTestVectorized)\n",
        "# Evaluate predictions\n",
        "print('\\n')\n",
        "print('MNBC WITH NETRAL')\n",
        "print('MNBC Accuracy Score: ',accuracy_score(Y_test,pred))\n",
        "print('MNBC Recall Score: ',recall_score(Y_test,pred,average='macro'))\n",
        "print('MNBC Precision Score: ',precision_score(Y_test,pred,average='macro'))\n",
        "print('\\n')\n",
        "print('MNBC Confusion Matrix:\\n',confusion_matrix(Y_test,pred))\n",
        "print('\\n')\n",
        "print('MNBC Classification Report: \\n',classification_report(Y_test,pred))\n",
        "print('\\n')\n",
        "print('MNBC Predicted: \\n',pred)\n"
      ],
      "metadata": {
        "colab": {
          "base_uri": "https://localhost:8080/"
        },
        "id": "ovamCKDPogMW",
        "outputId": "2ee00eb8-4c47-41a5-ad43-b4b3fefc4aec"
      },
      "execution_count": null,
      "outputs": [
        {
          "output_type": "stream",
          "name": "stdout",
          "text": [
            "\n",
            "\n",
            "MNBC WITH NETRAL\n",
            "MNBC Accuracy Score:  0.8390804597701149\n",
            "MNBC Recall Score:  0.7145313315526082\n",
            "MNBC Precision Score:  0.8264991181657848\n",
            "\n",
            "\n",
            "MNBC Confusion Matrix:\n",
            " [[45  0  2]\n",
            " [ 4  3  0]\n",
            " [ 7  1 25]]\n",
            "\n",
            "\n",
            "MNBC Classification Report: \n",
            "               precision    recall  f1-score   support\n",
            "\n",
            "    negative       0.80      0.96      0.87        47\n",
            "     neutral       0.75      0.43      0.55         7\n",
            "    positive       0.93      0.76      0.83        33\n",
            "\n",
            "    accuracy                           0.84        87\n",
            "   macro avg       0.83      0.71      0.75        87\n",
            "weighted avg       0.85      0.84      0.83        87\n",
            "\n",
            "\n",
            "\n",
            "MNBC Predicted: \n",
            " ['negative' 'negative' 'negative' 'negative' 'negative' 'positive'\n",
            " 'positive' 'positive' 'negative' 'positive' 'negative' 'negative'\n",
            " 'negative' 'negative' 'neutral' 'negative' 'negative' 'negative'\n",
            " 'negative' 'negative' 'negative' 'negative' 'negative' 'positive'\n",
            " 'positive' 'negative' 'positive' 'negative' 'positive' 'negative'\n",
            " 'positive' 'negative' 'negative' 'negative' 'negative' 'negative'\n",
            " 'positive' 'negative' 'positive' 'negative' 'positive' 'negative'\n",
            " 'negative' 'positive' 'positive' 'negative' 'positive' 'positive'\n",
            " 'positive' 'positive' 'neutral' 'negative' 'negative' 'negative'\n",
            " 'negative' 'negative' 'negative' 'positive' 'negative' 'negative'\n",
            " 'neutral' 'negative' 'negative' 'negative' 'negative' 'negative'\n",
            " 'negative' 'negative' 'negative' 'neutral' 'negative' 'negative'\n",
            " 'positive' 'positive' 'positive' 'positive' 'negative' 'positive'\n",
            " 'negative' 'positive' 'negative' 'positive' 'negative' 'negative'\n",
            " 'negative' 'negative' 'positive']\n"
          ]
        }
      ]
    },
    {
      "cell_type": "code",
      "source": [
        "import pandas as pd\n",
        "train_data_mnbc = pd.DataFrame({'content': X_train, 'Label': Y_train})\n",
        "train_data_mnbc.to_csv('training_data_mnbc.csv', index=False)"
      ],
      "metadata": {
        "id": "rOxBG64SqHND"
      },
      "execution_count": null,
      "outputs": []
    }
  ]
}